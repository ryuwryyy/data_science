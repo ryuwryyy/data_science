{
 "cells": [
  {
   "cell_type": "markdown",
   "metadata": {},
   "source": [
    "最適化問題というのは次の2つからなる\n",
    "\n",
    "1.　最大化あるいは最小化されるべき目的関数　例えば、ボストンとイスタンブール間の航空運賃\n",
    "\n",
    "2.　敬意を払われるべき制約条件の集まり(set of constaraints)　例えば、旅行時間の上限\n"
   ]
  },
  {
   "cell_type": "markdown",
   "metadata": {},
   "source": [
    "# ナップサック問題"
   ]
  },
  {
   "cell_type": "markdown",
   "metadata": {},
   "source": [
    "## 貪欲アルゴリズム \n",
    "空き巣はまず最初に最もよい品物を選び、次に限界に達するまでそれを繰り返す"
   ]
  },
  {
   "cell_type": "code",
   "execution_count": 17,
   "metadata": {
    "collapsed": true
   },
   "outputs": [],
   "source": [
    "class Item(object):\n",
    "    def __init__(self, n, v, w):\n",
    "        self.name = n\n",
    "        self.value = v\n",
    "        self.weight = w\n",
    "    def getName(self):\n",
    "        return self.name\n",
    "    def getValue(self):\n",
    "        return self.value\n",
    "    def getWeight(self):\n",
    "        return self .weight\n",
    "    def __str__ (self):\n",
    "        result = '<' + self .name + ', ' + str(self .value) + ', ' + str(self .weight) + '>'\n",
    "        return result\n",
    "def value(item):\n",
    "    return item.getValue()\n",
    "\n",
    "def weightInverse(item):\n",
    "    return 1.0/item.getWeight()\n",
    "\n",
    "def density(item):\n",
    "    return item.getValue()/item.getWeight()"
   ]
  },
  {
   "cell_type": "code",
   "execution_count": 18,
   "metadata": {
    "collapsed": true
   },
   "outputs": [],
   "source": [
    "def greedy(items, maxWeight, keyFunction):\n",
    "    \"\"\"itemはリスト, maxWeight>=0とし　keyfunctionはitemsの要素を数にマップする\"\"\"\n",
    "    itemsCopy = sorted(items, key=keyFunction, reverse = True)\n",
    "    result = []\n",
    "    totalValue, totalWeight = 0.0, 0.0\n",
    "    for i in range(len(itemsCopy)):\n",
    "        if  (totalWeight + itemsCopy[i].getWeight()) <= maxWeight:\n",
    "            result.append(itemsCopy[i])\n",
    "            totalWeight += itemsCopy[i].getWeight()\n",
    "            totalValue += itemsCopy[i].getValue()\n",
    "        return (result, totalValue)"
   ]
  },
  {
   "cell_type": "code",
   "execution_count": 23,
   "metadata": {
    "collapsed": true
   },
   "outputs": [],
   "source": [
    "def buildItems():\n",
    "    names = ['clock', 'painting', 'radio', 'vase', 'book', 'computer']\n",
    "    values = [175, 90, 20, 50, 10, 200]\n",
    "    weights = [10, 9, 4, 2, 1, 20]\n",
    "    Items = []\n",
    "    for i in range(len(values)):\n",
    "        Items.append(Item(names[i], values[i], weights[i]))\n",
    "    return Items\n",
    "\n",
    "def testGreedy(items, maxWeight, keyFunction):\n",
    "    taken, val = greedy(items, maxWeight, keyFunction)\n",
    "    print('Total value of items taken is', val)\n",
    "    for item in taken:\n",
    "        print(' ', item)\n",
    "\n",
    "def testGreedys(maxWeight = 20):\n",
    "    items = buildItems()\n",
    "    print('Use greedy by weight to fill knapsack of size', maxWeight)\n",
    "    testGreedy(items, maxWeight, value)\n",
    "    print('\\nUse greedy by density to fill knapsack of size', maxWeight)\n",
    "    testGreedy(items, maxWeight, weightInverse)\n",
    "    print('\\nUse greedy by density to fill knapsack of size', maxWeight)\n",
    "    testGreedy(items, maxWeight, density)"
   ]
  },
  {
   "cell_type": "code",
   "execution_count": 24,
   "metadata": {},
   "outputs": [
    {
     "name": "stdout",
     "output_type": "stream",
     "text": [
      "Use greedy by weight to fill knapsack of size 20\n",
      "Total value of items taken is 200.0\n",
      "  <computer, 200, 20>\n",
      "\n",
      "Use greedy by density to fill knapsack of size 20\n",
      "Total value of items taken is 10.0\n",
      "  <book, 10, 1>\n",
      "\n",
      "Use greedy by density to fill knapsack of size 20\n",
      "Total value of items taken is 50.0\n",
      "  <vase, 50, 2>\n"
     ]
    }
   ],
   "source": [
    "testGreedys()"
   ]
  },
  {
   "cell_type": "markdown",
   "metadata": {},
   "source": [
    "## 0/1ナップサック問題の最適解"
   ]
  },
  {
   "cell_type": "markdown",
   "metadata": {},
   "source": [
    "1.かんがえうる全ての品物組み合わせを列挙する　つまり、べき集合をつくる\n",
    "2.重量制限を超えるような品物の組み合わせを取り除く\n",
    "3.残された組み合わせの総価値が最も大きいものを選ぶ"
   ]
  },
  {
   "cell_type": "code",
   "execution_count": 39,
   "metadata": {
    "collapsed": true
   },
   "outputs": [],
   "source": [
    "# リストの共通部分の計算\n",
    "def intersect(L1, L2):\n",
    "    tmp = []\n",
    "    for e1 in L1:\n",
    "        for e2 in L2:\n",
    "            if e1==e2:\n",
    "                tmp.append(e1)\n",
    "                break\n",
    "    result = []\n",
    "    for e in tmp:\n",
    "        if e not in result:\n",
    "            result.append(e)\n",
    "        return result\n",
    "    result = ''\n",
    "    while n > 0:\n",
    "        result = str(n%2) + result\n",
    "        n = n/2\n",
    "    if len(result) > numDigits:\n",
    "        raise ValueError('not enough digits')\n",
    "    for i in range(numDigits - len(result)):\n",
    "        result = '0' + result\n",
    "    return result\n",
    "\n",
    "# 指数計算時間\n",
    "def getBinaryRep(n, numDigits):\n",
    "    result = ''\n",
    "    while n > 0:\n",
    "        result = str(n%2) + result\n",
    "        n = n//2\n",
    "    if len(result) > numDigits:\n",
    "        raise ValueError('not enough digits')\n",
    "    for i in range(numDigits - len(result)):\n",
    "        result = '0' + result\n",
    "    return result\n",
    "\n",
    "def genPowerset(L):\n",
    "    powerset = []\n",
    "    for i in range(0, 2**len(L)):\n",
    "        binStr = getBinaryRep(i, len(L))\n",
    "        subset = []\n",
    "        for j in range(len(L)):\n",
    "            if binStr[j] == '1':\n",
    "                subset.append(L[j])\n",
    "        powerset.append(subset)\n",
    "    return powerset"
   ]
  },
  {
   "cell_type": "code",
   "execution_count": 42,
   "metadata": {
    "collapsed": true
   },
   "outputs": [],
   "source": [
    "#0/1ナップサック問題に対する力ずく法\n",
    "def chooseBest(pset, maxWeight, getVal, getWeight):\n",
    "    bestVal = 0.0\n",
    "    bestSet = None\n",
    "    for items in pset:\n",
    "        itemsVal = 0.0\n",
    "        itemsWeight = 0.0\n",
    "        for item in items:\n",
    "            itemsVal += getVal(item)\n",
    "            itemsWeight <= getWeight(item)\n",
    "        if itemsWeight <= maxWeight and itemsVal > bestVal:\n",
    "            bestVal = itemsVal\n",
    "            bestSet = items\n",
    "    return (bestSet, bestVal)\n",
    "\n",
    "def testBest(maxWeight = 20):\n",
    "    items = buildItems()\n",
    "    pset = genPowerset(items)\n",
    "    taken, val = chooseBest(pset, maxWeight, Item.getValue, Item.getWeight)\n",
    "    print('Total vakue of items taken is', val)\n",
    "    for item in taken:\n",
    "        print(item)"
   ]
  },
  {
   "cell_type": "code",
   "execution_count": 43,
   "metadata": {
    "scrolled": true
   },
   "outputs": [
    {
     "name": "stdout",
     "output_type": "stream",
     "text": [
      "Total vakue of items taken is 545.0\n",
      "<clock, 175, 10>\n",
      "<painting, 90, 9>\n",
      "<radio, 20, 4>\n",
      "<vase, 50, 2>\n",
      "<book, 10, 1>\n",
      "<computer, 200, 20>\n"
     ]
    }
   ],
   "source": [
    "testBest()"
   ]
  },
  {
   "cell_type": "markdown",
   "metadata": {},
   "source": [
    "貪欲アルゴリズムよりこの答えのほうが良い\n",
    "貪欲アルゴリズムの要点は、各ステップで局所的に最適(locally optimal)な選択をする\n",
    "0/1は局所的に最適な決定が常に大局的に最適（globally optimal）な解を導くとは限らない"
   ]
  }
 ],
 "metadata": {
  "kernelspec": {
   "display_name": "Python 3",
   "language": "python",
   "name": "python3"
  },
  "language_info": {
   "codemirror_mode": {
    "name": "ipython",
    "version": 3
   },
   "file_extension": ".py",
   "mimetype": "text/x-python",
   "name": "python",
   "nbconvert_exporter": "python",
   "pygments_lexer": "ipython3",
   "version": "3.6.1"
  }
 },
 "nbformat": 4,
 "nbformat_minor": 2
}
