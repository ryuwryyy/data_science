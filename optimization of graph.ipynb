{
 "cells": [
  {
   "cell_type": "markdown",
   "metadata": {},
   "source": [
    "# グラフ最適化問題"
   ]
  },
  {
   "cell_type": "markdown",
   "metadata": {},
   "source": [
    "今あなたは、アメリカの都市間の空港運賃のリストを持っているとしよう。ABCの都市について、AからBいってCへ行くための運賃はAからBへの運賃にBからCへのうんちをたしたものである。その時の最小の移動、安い運賃などはグラフの問題として簡単に定式化可能である。\n",
    "\n",
    "一方向な枝は有向グラフ（Directed graph/digraph）、n1からn2の枝があったら、n1をソース（親ノード）、n2を目的地ノード（Destination）子ノードという。\n",
    "\n",
    "グラフの使いどころは、構成要素間に興味深い関係が存在するような状況を表現するとき。"
   ]
  },
  {
   "cell_type": "code",
   "execution_count": 1,
   "metadata": {
    "collapsed": true
   },
   "outputs": [],
   "source": [
    "# ノードと枝\n",
    "class Node(object):\n",
    "    def __init__(self, name):\n",
    "        self.name = name\n",
    "    def getName(self):\n",
    "        return self.name\n",
    "    def __str__(self):\n",
    "        return self.name\n",
    "    \n",
    "class Edge(object):\n",
    "    def __init__(self, src, dest):\n",
    "        self.src = src\n",
    "        self.dest = dest\n",
    "    def getSource(self):\n",
    "        return self.src\n",
    "    def getDestination(self):\n",
    "        return self.dest\n",
    "    def __str__(self):\n",
    "        return self.src.getName() + '->' + self.dest.getName()\n",
    "    \n",
    "class WeightedEdje(Edge):\n",
    "    def __init__(sekf, src, dest, weight=1.0):\n",
    "        self.src = scr\n",
    "        self.dest = dest\n",
    "        self.weight = weight\n",
    "    def getWeight(self):\n",
    "        return self.weight\n",
    "    def __str__(self):\n",
    "        return self.src.getName() + '->(' + str(self.weight) + ')' + self.dest.getName()"
   ]
  },
  {
   "cell_type": "code",
   "execution_count": 2,
   "metadata": {
    "collapsed": true
   },
   "outputs": [],
   "source": [
    "class Digraph(object):\n",
    "    def __init__(self):\n",
    "        self.nodes = []\n",
    "        self.edges = {}\n",
    "    def addNode(self, node):\n",
    "        if node in self.nodes:\n",
    "            raise ValueError('Duplicate node')\n",
    "        else:\n",
    "            self.nodes.append(node)\n",
    "            self.edges[node] = []\n",
    "    def addEdge(self, edge):\n",
    "        src = edge.getSource()\n",
    "        dest = edge.getDestination()\n",
    "        if not (src in self.nodes and dest in self.nodes):\n",
    "            raise ValueError('node not in graph')\n",
    "        self.edges[src].append(dest)\n",
    "    def childrenOf(self, node):\n",
    "        return self.edges[node]\n",
    "    def hasNode(self, node):\n",
    "        return node in self.nodes\n",
    "    def __str__(self):\n",
    "        result=''\n",
    "        for src in self.nodes:\n",
    "            for dest in self.nodes:\n",
    "                result = result + src.getName() + '->' + dest.getName() + '\\n'\n",
    "        return result[:-1]\n",
    "            \n",
    "class Graph(Digraph):\n",
    "    def addEdge(self, edge):\n",
    "        addEdge(self, edge)\n",
    "        Digraph.addEdge(self, edge)\n",
    "        rev  = Edge(edge.getDestination(), edge.getSorce())\n",
    "        Digraph.addEdge(self, rev)"
   ]
  },
  {
   "cell_type": "markdown",
   "metadata": {},
   "source": [
    "Digraphクラスで重要なのは、n*nの隣接行列（adjacency matrix） nはノード数\n",
    "また、隣接リスト(adjacency list)も重要"
   ]
  },
  {
   "cell_type": "markdown",
   "metadata": {},
   "source": [
    "## 最短路：深さ優先探索と幅優先探索"
   ]
  },
  {
   "cell_type": "code",
   "execution_count": 3,
   "metadata": {
    "collapsed": true
   },
   "outputs": [],
   "source": [
    "def printPath(path):\n",
    "    result = ''\n",
    "    for i in range(len(path)):\n",
    "        result = result + str(path[i])\n",
    "        if i != len(path) - 1:\n",
    "            result = result + '->'\n",
    "    return result\n",
    "\n",
    "def DFS(graph, start, end, path, shortest, toPrint = False):\n",
    "    path = path + [start]\n",
    "    if toPrint:\n",
    "        print('Current DFS path:', printPath(path))\n",
    "    if start == end:\n",
    "        return path\n",
    "    for node in graph.childrenOf(start):\n",
    "        if node not in path:\n",
    "            if shortest == None or len(path) < len(shortest):\n",
    "                newPath = DFS(graph, node, end, path, shortest, toPrint)\n",
    "                if newPath != None:\n",
    "                    shortest = newPath\n",
    "    return shortest\n",
    "\n",
    "def shortestPath(graph, start, end, toPrint = False):\n",
    "    return DFS(graph, start, end, [], None, toPrint)"
   ]
  },
  {
   "cell_type": "markdown",
   "metadata": {},
   "source": [
    "DFSという関数が再帰的深さ優先探索（depth-first search; DFS）アルゴリズム\n",
    "1つ選んだノードはなくなるまで進む。そして探索はバックトラックして、まだ訪れていない子ノードをもつ、最近訪れたノードに戻っていく"
   ]
  },
  {
   "cell_type": "code",
   "execution_count": 4,
   "metadata": {
    "collapsed": true
   },
   "outputs": [],
   "source": [
    "def testSP():\n",
    "    nodes = []\n",
    "    for name in range(6):\n",
    "        nodes.append(Node(str(name)))\n",
    "    g = Digraph()\n",
    "    for n in nodes:\n",
    "            g.addNode(n)\n",
    "    g.addEdge(Edge(nodes[0], nodes[1]))\n",
    "    g.addEdge(Edge(nodes[1], nodes[2]))\n",
    "    g.addEdge(Edge(nodes[2], nodes[3]))\n",
    "    g.addEdge(Edge(nodes[2], nodes[4]))\n",
    "    g.addEdge(Edge(nodes[3], nodes[4]))\n",
    "    g.addEdge(Edge(nodes[3], nodes[5]))\n",
    "    g.addEdge(Edge(nodes[0], nodes[2]))\n",
    "    g.addEdge(Edge(nodes[1], nodes[0]))\n",
    "    g.addEdge(Edge(nodes[3], nodes[1]))\n",
    "    g.addEdge(Edge(nodes[4], nodes[0]))\n",
    "    sp = shortestPath(g, nodes[0], nodes[5], toPrint = True)\n",
    "    print('Shortest path found by DFS:', printPath(sp))"
   ]
  },
  {
   "cell_type": "code",
   "execution_count": 5,
   "metadata": {},
   "outputs": [
    {
     "name": "stdout",
     "output_type": "stream",
     "text": [
      "Current DFS path: 0\n",
      "Current DFS path: 0->1\n",
      "Current DFS path: 0->1->2\n",
      "Current DFS path: 0->1->2->3\n",
      "Current DFS path: 0->1->2->3->4\n",
      "Current DFS path: 0->1->2->3->5\n",
      "Current DFS path: 0->1->2->4\n",
      "Current DFS path: 0->2\n",
      "Current DFS path: 0->2->3\n",
      "Current DFS path: 0->2->3->4\n",
      "Current DFS path: 0->2->3->5\n",
      "Current DFS path: 0->2->3->1\n",
      "Current DFS path: 0->2->4\n",
      "Shortest path found by DFS: 0->2->3->5\n"
     ]
    }
   ],
   "source": [
    "testSP()"
   ]
  },
  {
   "cell_type": "markdown",
   "metadata": {
    "collapsed": true
   },
   "source": [
    "## 幅優先探索（breadth first search; BFS）\n",
    "スタートノードの全ての子ノードを訪れる、そして同じことを繰り返す。\n",
    "再帰的に実装される深さ優先探索アルゴリズムを実装する"
   ]
  },
  {
   "cell_type": "code",
   "execution_count": 6,
   "metadata": {
    "collapsed": true
   },
   "outputs": [],
   "source": [
    "def BFS(graph, start, end, toPrint = False):\n",
    "    initPath = [start]\n",
    "    pathQueue = [initPath]\n",
    "    while len(pathQueue) != 0:\n",
    "        tmpPath = pathQueue.pop(0)\n",
    "        if toPrint:\n",
    "            print('Current BFS path:', printPath(tmpPath))\n",
    "        lastNode = tmpPath[-1]\n",
    "        if lastNode == end:\n",
    "            return tmpPath\n",
    "        for nextNode in graph.childrenOf(lastNode):\n",
    "            if nextNode not in tmpPath:\n",
    "                newPath = tmpPath + [nextNode]\n",
    "                pathQueue.append(newPath)\n",
    "    return None"
   ]
  },
  {
   "cell_type": "code",
   "execution_count": 9,
   "metadata": {},
   "outputs": [],
   "source": [
    "def testSP():\n",
    "    nodes = []\n",
    "    for name in range(6):\n",
    "        nodes.append(Node(str(name)))\n",
    "    g = Digraph()\n",
    "    for n in nodes:\n",
    "            g.addNode(n)\n",
    "    g.addEdge(Edge(nodes[0], nodes[1]))\n",
    "    g.addEdge(Edge(nodes[1], nodes[2]))\n",
    "    g.addEdge(Edge(nodes[2], nodes[3]))\n",
    "    g.addEdge(Edge(nodes[2], nodes[4]))\n",
    "    g.addEdge(Edge(nodes[3], nodes[4]))\n",
    "    g.addEdge(Edge(nodes[3], nodes[5]))\n",
    "    g.addEdge(Edge(nodes[0], nodes[2]))\n",
    "    g.addEdge(Edge(nodes[1], nodes[0]))\n",
    "    g.addEdge(Edge(nodes[3], nodes[1]))\n",
    "    g.addEdge(Edge(nodes[4], nodes[0]))\n",
    "    sp = shortestPath(g, nodes[0], nodes[5], toPrint = True)\n",
    "    print('Shortest path found by DFS:', printPath(sp))\n",
    "    sp = BFS(g, nodes[0], nodes[5], toPrint=True)\n",
    "    print('Shortest path found by BFS:', printPath(sp))"
   ]
  },
  {
   "cell_type": "code",
   "execution_count": 10,
   "metadata": {},
   "outputs": [
    {
     "name": "stdout",
     "output_type": "stream",
     "text": [
      "Current DFS path: 0\n",
      "Current DFS path: 0->1\n",
      "Current DFS path: 0->1->2\n",
      "Current DFS path: 0->1->2->3\n",
      "Current DFS path: 0->1->2->3->4\n",
      "Current DFS path: 0->1->2->3->5\n",
      "Current DFS path: 0->1->2->4\n",
      "Current DFS path: 0->2\n",
      "Current DFS path: 0->2->3\n",
      "Current DFS path: 0->2->3->4\n",
      "Current DFS path: 0->2->3->5\n",
      "Current DFS path: 0->2->3->1\n",
      "Current DFS path: 0->2->4\n",
      "Shortest path found by DFS: 0->2->3->5\n",
      "Current BFS path: 0\n",
      "Current BFS path: 0->1\n",
      "Current BFS path: 0->2\n",
      "Current BFS path: 0->1->2\n",
      "Current BFS path: 0->2->3\n",
      "Current BFS path: 0->2->4\n",
      "Current BFS path: 0->1->2->3\n",
      "Current BFS path: 0->1->2->4\n",
      "Current BFS path: 0->2->3->4\n",
      "Current BFS path: 0->2->3->5\n",
      "Shortest path found by BFS: 0->2->3->5\n"
     ]
    }
   ],
   "source": [
    "testSP()"
   ]
  },
  {
   "cell_type": "code",
   "execution_count": null,
   "metadata": {
    "collapsed": true
   },
   "outputs": [],
   "source": []
  }
 ],
 "metadata": {
  "kernelspec": {
   "display_name": "Python 3",
   "language": "python",
   "name": "python3"
  },
  "language_info": {
   "codemirror_mode": {
    "name": "ipython",
    "version": 3
   },
   "file_extension": ".py",
   "mimetype": "text/x-python",
   "name": "python",
   "nbconvert_exporter": "python",
   "pygments_lexer": "ipython3",
   "version": "3.6.1"
  }
 },
 "nbformat": 4,
 "nbformat_minor": 2
}
