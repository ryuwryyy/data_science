{
 "cells": [
  {
   "cell_type": "code",
   "execution_count": 15,
   "metadata": {},
   "outputs": [
    {
     "data": {
      "text/plain": [
       "'Hello'"
      ]
     },
     "execution_count": 15,
     "metadata": {},
     "output_type": "execute_result"
    }
   ],
   "source": [
    "# First word\n",
    "def first_word(text):\n",
    "    for i in range(len(text)):\n",
    "        if text[i].isalpha() or text[i] == \"'\":\n",
    "            for j in range(i, len(text)):\n",
    "                if not (text[j].isalpha() or text[j] == \"'\"): return text[i:j]\n",
    "            return(text[i:])\n",
    "        \n",
    "first_word(\"Hello world\")"
   ]
  },
  {
   "cell_type": "code",
   "execution_count": 26,
   "metadata": {},
   "outputs": [
    {
     "data": {
      "text/plain": [
       "3"
      ]
     },
     "execution_count": 26,
     "metadata": {},
     "output_type": "execute_result"
    }
   ],
   "source": [
    "# Second index\n",
    "def second_index(text:int, symbol:str) -> [int, None]:\n",
    "    if text.count(symbol) > 1:\n",
    "        first_idx = text.index(symbol) + 1\n",
    "    return text[first_idx:len(text)].index(symbol) + first_idx\n",
    "second_index(\"sims\", \"s\")"
   ]
  },
  {
   "cell_type": "code",
   "execution_count": 9,
   "metadata": {},
   "outputs": [
    {
     "name": "stdout",
     "output_type": "stream",
     "text": [
      "apple\n"
     ]
    }
   ],
   "source": [
    "def between_markers(text: str, begin: str, end: str) -> str:\n",
    "    \"\"\"\n",
    "        returns substring between two given markers\n",
    "    \"\"\"\n",
    "    string = text.split(begin)\n",
    "\n",
    "    if len(string) == 1: return string[0].split(end)[0]  \n",
    "    if end in string[0]: return ''\n",
    "    return string[1].split(end)[0]\n",
    "\n",
    "print(between_markers('What is >apple<', '>', '<'))"
   ]
  },
  {
   "cell_type": "code",
   "execution_count": 18,
   "metadata": {},
   "outputs": [
    {
     "name": "stdout",
     "output_type": "stream",
     "text": [
      "Example:\n",
      "ATX\n"
     ]
    }
   ],
   "source": [
    "def best_stock(data):\n",
    "    best_price = max(data.values())\n",
    "    for i in data.items():\n",
    "        # i[1] = values\n",
    "        if i[1] == best_price:\n",
    "            return i[0]\n",
    "        \n",
    "if __name__ == '__main__':\n",
    "    print(\"Example:\")\n",
    "    print(best_stock({\n",
    "        'CAC': 10.0,\n",
    "        'ATX': 390.2,\n",
    "        'WIG': 1.2\n",
    "    }))"
   ]
  },
  {
   "cell_type": "code",
   "execution_count": 22,
   "metadata": {},
   "outputs": [
    {
     "name": "stdout",
     "output_type": "stream",
     "text": [
      "Example:\n",
      "{'i': 4, 'was': 3, 'three': 0, 'near': 0}\n"
     ]
    }
   ],
   "source": [
    "def popular_words(text: str, words: list) -> dict:\n",
    "    # your code here\n",
    "    list = text.lower().split()\n",
    "    results = {}\n",
    "    \n",
    "    for i in words:\n",
    "        results[i] = list.count(i)\n",
    "        \n",
    "    return results\n",
    "\n",
    "if __name__ == '__main__':\n",
    "    print(\"Example:\")\n",
    "    print(popular_words('''\n",
    "When I was One\n",
    "I had just begun\n",
    "When I was Two\n",
    "I was nearly new\n",
    "''', ['i', 'was', 'three', 'near']))"
   ]
  },
  {
   "cell_type": "code",
   "execution_count": 29,
   "metadata": {},
   "outputs": [
    {
     "name": "stdout",
     "output_type": "stream",
     "text": [
      "Example:\n",
      "[{'name': 'wine', 'price': 138}, {'name': 'bread', 'price': 100}]\n"
     ]
    }
   ],
   "source": [
    "def bigger_price(limit: int, data: list) -> list:\n",
    "    result = []\n",
    "    data = sorted(data, key = lambda x: x['price'], reverse=True)\n",
    "    for i in range(limit):\n",
    "        result.append(data[i])\n",
    "    return result\n",
    "    \n",
    "if __name__ == '__main__':\n",
    "    from pprint import pprint\n",
    "    print('Example:')\n",
    "    print(bigger_price(2, [\n",
    "        {\"name\": \"bread\", \"price\": 100},\n",
    "        {\"name\": \"wine\", \"price\": 138},\n",
    "        {\"name\": \"meat\", \"price\": 15},\n",
    "        {\"name\": \"water\", \"price\": 1}\n",
    "    ]))\n"
   ]
  },
  {
   "cell_type": "code",
   "execution_count": 42,
   "metadata": {},
   "outputs": [
    {
     "name": "stdout",
     "output_type": "stream",
     "text": [
      "Example:\n",
      "[{'name': 'wine', 'price': 138}, {'name': 'bread', 'price': 100}]\n"
     ]
    }
   ],
   "source": [
    "def bigger_price(limit: int, data: list) -> list:\n",
    "    data.sort(key = lambda x: x[\"price\"], reverse=True)\n",
    "    return data[:limit]\n",
    "\n",
    "if __name__ == '__main__':\n",
    "    from pprint import pprint\n",
    "    print('Example:')\n",
    "    pprint(bigger_price(2, [\n",
    "        {\"name\": \"bread\", \"price\": 100},\n",
    "        {\"name\": \"wine\", \"price\": 138},\n",
    "        {\"name\": \"meat\", \"price\": 15},\n",
    "        {\"name\": \"water\", \"price\": 1}\n",
    "    ]))\n"
   ]
  },
  {
   "cell_type": "code",
   "execution_count": null,
   "metadata": {
    "collapsed": true
   },
   "outputs": [],
   "source": []
  }
 ],
 "metadata": {
  "kernelspec": {
   "display_name": "Python 3",
   "language": "python",
   "name": "python3"
  },
  "language_info": {
   "codemirror_mode": {
    "name": "ipython",
    "version": 3
   },
   "file_extension": ".py",
   "mimetype": "text/x-python",
   "name": "python",
   "nbconvert_exporter": "python",
   "pygments_lexer": "ipython3",
   "version": "3.6.1"
  }
 },
 "nbformat": 4,
 "nbformat_minor": 2
}
