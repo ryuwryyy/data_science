{
 "cells": [
  {
   "cell_type": "markdown",
   "metadata": {},
   "source": [
    "# Pythonの基本文法を整理"
   ]
  },
  {
   "cell_type": "markdown",
   "metadata": {},
   "source": [
    "## リスト\n",
    "変数に　複数の値を与えることができるリスト\n",
    "\n",
    "リストの中身をオブジェクトや要素という"
   ]
  },
  {
   "cell_type": "markdown",
   "metadata": {},
   "source": [
    "## 辞書型\n",
    "リストはインデックスで要素を取り出すが、辞書はキーで名前をつけ、バリューに紐付ける"
   ]
  },
  {
   "cell_type": "markdown",
   "metadata": {},
   "source": [
    "## While文\n",
    "Falseになったら終わり"
   ]
  },
  {
   "cell_type": "markdown",
   "metadata": {},
   "source": [
    "## for文\n",
    "リストの要素はすべて出力したいときなど、\n",
    "データ群の要素数だけ処理を繰り返すことができます。"
   ]
  },
  {
   "cell_type": "markdown",
   "metadata": {},
   "source": [
    "### enumerate\n",
    "インデックス付きで要素を得ることができる\n",
    "for x, y in enumerate(list)\n",
    "x は整数型\n",
    "y はリスト型"
   ]
  },
  {
   "cell_type": "markdown",
   "metadata": {},
   "source": [
    "### item\n",
    "キーとバリューがFOR文で使える"
   ]
  },
  {
   "cell_type": "code",
   "execution_count": 1,
   "metadata": {},
   "outputs": [
    {
     "name": "stdout",
     "output_type": "stream",
     "text": [
      "strawberry is red\n",
      "peach is pink\n",
      "banana is yellow\n"
     ]
    }
   ],
   "source": [
    "fruits = {\"strawberry\": \"red\", \"peach\": \"pink\", \"banana\": \"yellow\"}\n",
    "for fruit, color in fruits.items():\n",
    "        print(fruit+\" is \"+color)"
   ]
  },
  {
   "cell_type": "markdown",
   "metadata": {},
   "source": [
    "## 組み込み関数\n",
    "len() print() sorted()など"
   ]
  },
  {
   "cell_type": "markdown",
   "metadata": {},
   "source": [
    "## メソッド\n",
    "`値．メソッド（）`とかく。.append()や.sort()など"
   ]
  },
  {
   "cell_type": "markdown",
   "metadata": {},
   "source": [
    "### .format()\n",
    "変数を文字列に埋め込む際によく使うメソッド"
   ]
  },
  {
   "cell_type": "code",
   "execution_count": 2,
   "metadata": {},
   "outputs": [
    {
     "name": "stdout",
     "output_type": "stream",
     "text": [
      "私は東京生まれ、埼玉育ち\n"
     ]
    }
   ],
   "source": [
    "print(\"私は{}生まれ、{}育ち\".format(\"東京\", \"埼玉\"))"
   ]
  },
  {
   "cell_type": "markdown",
   "metadata": {},
   "source": [
    "## .index()"
   ]
  },
  {
   "cell_type": "code",
   "execution_count": 3,
   "metadata": {},
   "outputs": [
    {
     "name": "stdout",
     "output_type": "stream",
     "text": [
      "0\n",
      "2\n"
     ]
    }
   ],
   "source": [
    "alphabet = [\"a\", \"b\", \"c\", \"d\", \"d\"]\n",
    "print(alphabet.index(\"a\"))  # インデックス番号0番目にあるので、「0」と出力されます。\n",
    "print(alphabet.count(\"d\"))  # \"d\"がインデックス番号3番目と4番目にあるので、「2」と出力されます。"
   ]
  },
  {
   "cell_type": "code",
   "execution_count": 4,
   "metadata": {},
   "outputs": [
    {
     "name": "stdout",
     "output_type": "stream",
     "text": [
      "5\n",
      "3\n"
     ]
    }
   ],
   "source": [
    "numbers = [3, 6, 8, 6, 3, 2, 4, 6]\n",
    "\n",
    "print(numbers.index(2))\n",
    "\n",
    "print(numbers.count(6))"
   ]
  },
  {
   "cell_type": "markdown",
   "metadata": {},
   "source": [
    "## def\n",
    "### 初期値\n",
    "呼び出すときに引数を省略すると代わりの値として初期値が使われます。"
   ]
  },
  {
   "cell_type": "code",
   "execution_count": 5,
   "metadata": {},
   "outputs": [
    {
     "name": "stdout",
     "output_type": "stream",
     "text": [
      "名字はSuzukiで、名前はTaroです。\n"
     ]
    }
   ],
   "source": [
    "def introduce(first = \"Yamada\",second = \"Taro\"):\n",
    "    print(\"名字は\"+ first + \"で、名前は\"+ second + \"です。\")\n",
    "\n",
    "introduce(\"Suzuki\")"
   ]
  },
  {
   "cell_type": "markdown",
   "metadata": {},
   "source": [
    "Pythonでは、コードを構成する全ての要素(変数や関数)は オブジェクト として扱われます。 オブジェクトとは、それ自体が持つ 値(メンバ) やそれ自体に対する 処理(メソッド) をひとまとまりにしたもののことを言います。\n",
    "\n",
    "すべての要素をオブジェクトとして扱う言語をオブジェクト指向言語といいます"
   ]
  },
  {
   "cell_type": "markdown",
   "metadata": {},
   "source": [
    "## クラス\n",
    "それぞれのオブジェクトはどのような値を持てるか、どのような処理ができるかが決まっています。それを決定づけるには、オブジェクトの構造を決めるような 設計図 が必要になります。この設計図のことを クラス と呼びます。 list オブジェクトも、list クラスによって設計が定められており、決まった処理を行うことができます。"
   ]
  },
  {
   "cell_type": "markdown",
   "metadata": {},
   "source": [
    "ここでは以下のような構造を持ったオブジェクトを考えます。\n",
    "\n",
    "オブジェクトの内容\n",
    "商品\n",
    "メンバ\n",
    "商品名: name\n",
    "値段: price\n",
    "在庫: stock\n",
    "売れ行き: sales"
   ]
  },
  {
   "cell_type": "code",
   "execution_count": 6,
   "metadata": {
    "collapsed": true
   },
   "outputs": [],
   "source": [
    "# MyProductクラスを定義\n",
    "class MyProduct:\n",
    "    # コンストラクタの定義\n",
    "    def __init__(self, name, price):\n",
    "        # 引数をメンバに格納\n",
    "        self.name = name\n",
    "        self.price = price\n",
    "        self.stock = 0\n",
    "        self.sales = 0"
   ]
  },
  {
   "cell_type": "markdown",
   "metadata": {},
   "source": [
    "クラスを呼び出す際に作動するメソッドを、コンストラクタと呼びます。コンストラクタはクラス定義において __init()__ によって定義されます。"
   ]
  },
  {
   "cell_type": "code",
   "execution_count": 7,
   "metadata": {
    "collapsed": true
   },
   "outputs": [],
   "source": [
    "# MyProductを呼び出し、オブジェクトproduct1を作成\n",
    "product1 = MyProduct(\"cake\", 500)"
   ]
  },
  {
   "cell_type": "markdown",
   "metadata": {},
   "source": [
    "クラス内では、メンバはself.priceのように変数名の前にself.を付けます。また、コンストラクタには第一引数にselfを指定する必要があります。"
   ]
  },
  {
   "cell_type": "code",
   "execution_count": 8,
   "metadata": {},
   "outputs": [
    {
     "name": "stdout",
     "output_type": "stream",
     "text": [
      "20\n"
     ]
    }
   ],
   "source": [
    "# MyProductクラスを定義\n",
    "class MyProduct:\n",
    "    # コンストラクタを修正してください\n",
    "    def __init__(self, name, price, stock):\n",
    "        # 引数をメンバに格納してください\n",
    "        self.name = name\n",
    "        self.price = price\n",
    "        self.stock = stock\n",
    "        \n",
    "# MyProductを呼び出し、オブジェクトproduct_1を作成\n",
    "product_1 = MyProduct(\"cake\", 500, 20)\n",
    "\n",
    "# product_1のstockを出力してください\n",
    "print(product_1.stock)"
   ]
  },
  {
   "cell_type": "markdown",
   "metadata": {},
   "source": [
    "練習問題"
   ]
  },
  {
   "cell_type": "code",
   "execution_count": 9,
   "metadata": {},
   "outputs": [
    {
     "name": "stdout",
     "output_type": "stream",
     "text": [
      "called summary().\n",
      " name: phone\n",
      " price: 25000\n",
      " stock: 100\n",
      " sales: 0\n",
      "None\n"
     ]
    }
   ],
   "source": [
    "# MyProductクラスを定義\n",
    "class MyProduct:\n",
    "    def __init__(self, name, price, stock):\n",
    "        self.name = name\n",
    "        self.price = price\n",
    "        self.stock = stock\n",
    "        self.sales = 0\n",
    "    # 概要メソッド\n",
    "    def summary(self):\n",
    "        message = \"called summary().\\n name: \" + self.get_name() + \\\n",
    "        \"\\n price: \" + str(self.price) + \\\n",
    "        \"\\n stock: \" + str(self.stock) + \\\n",
    "        \"\\n sales: \" + str(self.sales)\n",
    "        print(message)\n",
    "    # nameを返すget_name()を作成して下さい\n",
    "    def get_name(self):\n",
    "        return self.name\n",
    "    # 引数のぶんだけpriceを減らすdiscount()を作成して下さい\n",
    "    def discount(self, n):\n",
    "        self.price -= n\n",
    "product_2 = MyProduct(\"phone\", 30000, 100)\n",
    "# 5000だけdiscountして下さい\n",
    "product_2.discount(5000)\n",
    "# product_2のsummaryを出力して下さい\n",
    "print(product_2.summary())"
   ]
  },
  {
   "cell_type": "markdown",
   "metadata": {},
   "source": [
    "補足\n",
    "%d : 整数で表示\n",
    "%f : 小数で表示\n",
    "%.2f : 小数第２位まで表示\n",
    "%s : 文字列として表示"
   ]
  },
  {
   "cell_type": "code",
   "execution_count": 10,
   "metadata": {},
   "outputs": [
    {
     "name": "stdout",
     "output_type": "stream",
     "text": [
      "円周率は3.141592\n",
      "円周率は3.14\n"
     ]
    }
   ],
   "source": [
    "pai = 3.141592\n",
    "print(\"円周率は%f\" % pai)  # 円周率は3.141592と出力されます。\n",
    "print(\"円周率は%.2f\" % pai)  # 円周率は3.14と出力されます。"
   ]
  },
  {
   "cell_type": "code",
   "execution_count": null,
   "metadata": {
    "collapsed": true
   },
   "outputs": [],
   "source": []
  }
 ],
 "metadata": {
  "kernelspec": {
   "display_name": "Python 3",
   "language": "python",
   "name": "python3"
  },
  "language_info": {
   "codemirror_mode": {
    "name": "ipython",
    "version": 3
   },
   "file_extension": ".py",
   "mimetype": "text/x-python",
   "name": "python",
   "nbconvert_exporter": "python",
   "pygments_lexer": "ipython3",
   "version": "3.6.1"
  }
 },
 "nbformat": 4,
 "nbformat_minor": 2
}
